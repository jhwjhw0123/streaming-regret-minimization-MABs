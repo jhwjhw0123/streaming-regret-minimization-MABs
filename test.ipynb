{
 "cells": [
  {
   "cell_type": "code",
   "execution_count": null,
   "id": "professional-appeal",
   "metadata": {},
   "outputs": [],
   "source": [
    "import os\n",
    "import pickle\n",
    "import numpy as np\n",
    "import random\n",
    "import copy\n",
    "import tqdm\n",
    "\n",
    "from streamingMAB import Bernoulli_Arm, Arm_Reading_Buffer\n",
    "from algorithms import uniform_exploration_algorithm, naive_eps_best_algorithm, best_among_remaining\n",
    "from algorithms import log_eps_best_algorithm, loglog_eps_best_algorithm, logstar_eps_best_algorithm\n",
    "from algorithms import Game_of_Arms_regret_min"
   ]
  },
  {
   "cell_type": "code",
   "execution_count": null,
   "id": "tamil-bowling",
   "metadata": {},
   "outputs": [],
   "source": [
    "# parameter\n",
    "num_arms = 50000\n",
    "trial_mult_factor = 1000\n",
    "trial_exp_factor = 3\n",
    "num_trials = trial_mult_factor*(int)(num_arms**trial_exp_factor)\n",
    "arm_setting = 'clear_cut_setting'  \n",
    "# arm_setting = 'mix_in_setting'"
   ]
  },
  {
   "cell_type": "code",
   "execution_count": null,
   "id": "eastern-senate",
   "metadata": {},
   "outputs": [],
   "source": [
    "uniform_exploration_regrets = []\n",
    "naive_esp_alg_regrets = []\n",
    "log_eps_alg_regrets = []\n",
    "loglog_eps_alg_regrets = []\n",
    "logstar_eps_alg_regrets = []\n",
    "goa_esp_alg_regrest = []\n",
    "for i_seed in tqdm.tqdm(range(50)):\n",
    "    # fix the random seed\n",
    "    np.random.seed(i_seed)\n",
    "    # randomly construct a set of arms\n",
    "    if arm_setting == 'clear_cut_setting':\n",
    "        arm_list = [Bernoulli_Arm(random_mean='gaussian') for _ in range(num_arms-1)]\n",
    "        arm_list.append(Bernoulli_Arm(p=0.82))\n",
    "    elif arm_setting == 'mix_in_setting':\n",
    "        arm_list = [Bernoulli_Arm(random_mean='uniform') for _ in range(num_arms)]\n",
    "    else:\n",
    "        raise ValueError('The arm_setting parameter is not correctly setup.')\n",
    "    random.shuffle(arm_list)\n",
    "    # construct the buffer\n",
    "    streaming_arm_buffer = Arm_Reading_Buffer(arm_set = np.array(arm_list))\n",
    "    # trials for uniform exploration\n",
    "    streaming_arm_buffer.reset()\n",
    "    uni_best_arm, uni_arm_ind, uni_regret = uniform_exploration_algorithm(streaming_arm_buffer, \n",
    "                                                                          num_trials, \n",
    "                                                                          verbose=False)\n",
    "    uniform_exploration_regrets.append(uni_regret)\n",
    "    # trials for the naive eps-best arm algorithm\n",
    "    streaming_arm_buffer.reset()\n",
    "    eps_naive_best_arm, eps_naive_arm_ind, eps_naive_regret = naive_eps_best_algorithm(streaming_arm_buffer, \n",
    "                                                                                       num_trials, \n",
    "                                                                                       verbose=False)\n",
    "    naive_esp_alg_regrets.append(eps_naive_regret)\n",
    "    # trials for the log(n)-space eps-best arm algorithm\n",
    "    streaming_arm_buffer.reset()\n",
    "    eps_log_best_arm, eps_log_arm_ind, eps_log_regret = log_eps_best_algorithm(streaming_arm_buffer, \n",
    "                                                                               num_trials, \n",
    "                                                                               verbose=False)\n",
    "    log_eps_alg_regrets.append(eps_log_regret)\n",
    "    # trials for the loglog(n)-space eps-best arm algorithm\n",
    "    streaming_arm_buffer.reset()\n",
    "    eps_loglog_best_arm, eps_loglog_arm_ind, eps_loglog_regret = loglog_eps_best_algorithm(streaming_arm_buffer, \n",
    "                                                                                           num_trials, \n",
    "                                                                                           verbose=False) \n",
    "    loglog_eps_alg_regrets.append(eps_loglog_regret)\n",
    "    # trials for the logstar(n)-space eps-best arm algorithm\n",
    "    streaming_arm_buffer.reset()\n",
    "    eps_logstar_best_arm, eps_logstar_arm_ind, eps_logstar_regret = logstar_eps_best_algorithm(streaming_arm_buffer, \n",
    "                                                                                               num_trials, \n",
    "                                                                                               verbose=False)\n",
    "    logstar_eps_alg_regrets.append(eps_logstar_regret)\n",
    "    # trials for the game-of-arm eps-best arm algorithm\n",
    "    streaming_arm_buffer.reset()\n",
    "    eps_goa_best_arm, eps_goa_arm_ind, eps_goa_regret = Game_of_Arms_regret_min(streaming_arm_buffer, \n",
    "                                                                                num_trials, \n",
    "                                                                                verbose=False)\n",
    "    goa_esp_alg_regrest.append(eps_goa_regret)"
   ]
  },
  {
   "cell_type": "code",
   "execution_count": null,
   "id": "specialized-quality",
   "metadata": {},
   "outputs": [],
   "source": [
    "print('The 50-trial average regret by uniform exploration is', np.mean(uniform_exploration_regrets))\n",
    "print('The 50-trial average regret by the naive algorithm for eps-best arm is', np.mean(naive_esp_alg_regrets))\n",
    "print('The 50-trial average regret by the log-space algorithm for eps-best arm is', np.mean(log_eps_alg_regrets))\n",
    "print('The 50-trial average  regret by the loglog-space algorithm for eps-best arm is', np.mean(loglog_eps_alg_regrets))\n",
    "print('The 50-trial average regret by the logstar-space algorithm for eps-best arm is', np.mean(logstar_eps_alg_regrets))\n",
    "print('The 50-trial average regret by the game-of-arm algorithm for eps-best arm is', np.mean(goa_esp_alg_regrest))"
   ]
  },
  {
   "cell_type": "code",
   "execution_count": null,
   "id": "italic-battlefield",
   "metadata": {},
   "outputs": [],
   "source": [
    "rst_id = 'num_multiplier='+str(trial_mult_factor)+'_exp='+str(trial_exp_factor)\n",
    "save_dir = './experiments/'+arm_setting+'/num_arms='+str(num_arms)+'/'\n",
    "# create the directory if it does not exist\n",
    "if not os.path.exists(save_dir):\n",
    "    os.makedirs(save_dir)\n",
    "# save the information as numpy arrays\n",
    "np.save(save_dir+rst_id+'_uniform.npy', np.array(uniform_exploration_regrets))\n",
    "np.save(save_dir+rst_id+'_naive_eps.npy', np.array(naive_esp_alg_regrets))\n",
    "np.save(save_dir+rst_id+'_log_eps.npy', np.array(log_eps_alg_regrets))\n",
    "np.save(save_dir+rst_id+'_loglog_eps.npy', np.array(loglog_eps_alg_regrets))\n",
    "np.save(save_dir+rst_id+'_logstar_eps.npy', np.array(logstar_eps_alg_regrets))\n",
    "np.save(save_dir+rst_id+'_goa_eps.npy', np.array(goa_esp_alg_regrest))"
   ]
  }
 ],
 "metadata": {
  "kernelspec": {
   "display_name": "Python 3",
   "language": "python",
   "name": "python3"
  },
  "language_info": {
   "codemirror_mode": {
    "name": "ipython",
    "version": 3
   },
   "file_extension": ".py",
   "mimetype": "text/x-python",
   "name": "python",
   "nbconvert_exporter": "python",
   "pygments_lexer": "ipython3",
   "version": "3.7.4"
  }
 },
 "nbformat": 4,
 "nbformat_minor": 5
}
